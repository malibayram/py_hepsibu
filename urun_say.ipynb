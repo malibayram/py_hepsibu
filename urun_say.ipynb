{
 "cells": [
  {
   "cell_type": "code",
   "execution_count": 1,
   "metadata": {
    "scrolled": true
   },
   "outputs": [],
   "source": [
    "urunler = set()"
   ]
  },
  {
   "cell_type": "code",
   "execution_count": 2,
   "metadata": {},
   "outputs": [
    {
     "name": "stdout",
     "output_type": "stream",
     "text": [
      "output_5.txt\n",
      "159343\n",
      "output_6.txt\n",
      "185369\n",
      "output_7.txt\n",
      "216395\n",
      "output_8.txt\n",
      "254433\n",
      "output_9.txt\n",
      "286458\n",
      "output_10.txt\n",
      "321957\n",
      "output_11.txt\n",
      "351484\n",
      "output_12.txt\n",
      "385054\n",
      "output_13.txt\n",
      "421926\n",
      "output_14.txt\n",
      "444444\n",
      "output_15.txt\n",
      "470449\n",
      "output_16.txt\n",
      "495583\n",
      "output_17.txt\n",
      "519679\n",
      "output_18.txt\n",
      "550612\n",
      "output_19.txt\n",
      "577956\n",
      "output_20.txt\n",
      "603263\n",
      "output_21.txt\n",
      "631043\n",
      "output_22.txt\n",
      "653414\n",
      "output_23.txt\n",
      "686941\n",
      "output_24.txt\n",
      "712287\n",
      "output_25.txt\n",
      "747879\n",
      "output_26.txt\n",
      "771984\n",
      "output_27.txt\n",
      "803077\n",
      "output_28.txt\n",
      "826408\n",
      "output_29.txt\n",
      "849015\n",
      "output_30.txt\n",
      "874552\n",
      "output_31.txt\n",
      "893990\n",
      "output_32.txt\n",
      "915307\n",
      "output_33.txt\n",
      "937670\n",
      "output_34.txt\n",
      "963315\n",
      "output_35.txt\n",
      "986053\n",
      "output_36.txt\n",
      "1007924\n",
      "output_37.txt\n",
      "1028773\n",
      "output_38.txt\n",
      "1045551\n",
      "output_39.txt\n",
      "1064514\n",
      "output_40.txt\n",
      "1086277\n",
      "output_41.txt\n",
      "1106608\n",
      "output_42.txt\n",
      "1124503\n",
      "output_43.txt\n",
      "1142671\n",
      "output_44.txt\n",
      "1162526\n",
      "output_45.txt\n",
      "1177585\n",
      "output_46.txt\n",
      "1194929\n",
      "output_47.txt\n",
      "1210239\n",
      "output_48.txt\n",
      "1229589\n",
      "output_49.txt\n",
      "1246807\n",
      "output_50.txt\n",
      "1263660\n",
      "output_51.txt\n",
      "1279575\n",
      "output_52.txt\n",
      "1295163\n",
      "output_53.txt\n",
      "1308498\n",
      "output_54.txt\n",
      "1323792\n",
      "output_55.txt\n",
      "1333268\n"
     ]
    }
   ],
   "source": [
    "for x in range(5, 56):\n",
    "    fileName = \"output_\" + str(x) + \".txt\"\n",
    "    f = open(fileName, \"r\")\n",
    "    lines = f.read().split('\\n')\n",
    "    for ln in lines:\n",
    "        if len(ln) > 0 and ln not in urunler:\n",
    "            urunler.add(ln)            \n",
    "    print(fileName)\n",
    "    print(len(urunler))"
   ]
  },
  {
   "cell_type": "code",
   "execution_count": 3,
   "metadata": {},
   "outputs": [],
   "source": [
    "with open(\"tum_urunler.txt\", \"w\") as txt_file:\n",
    "    for line in urunler:\n",
    "        txt_file.write(line + \"\\n\")"
   ]
  },
  {
   "cell_type": "code",
   "execution_count": 2,
   "metadata": {},
   "outputs": [],
   "source": [
    "yenisayi = 1333268 - 1305130"
   ]
  },
  {
   "cell_type": "code",
   "execution_count": 3,
   "metadata": {},
   "outputs": [
    {
     "data": {
      "text/plain": [
       "28138"
      ]
     },
     "execution_count": 3,
     "metadata": {},
     "output_type": "execute_result"
    }
   ],
   "source": [
    "yenisayi"
   ]
  },
  {
   "cell_type": "code",
   "execution_count": null,
   "metadata": {},
   "outputs": [],
   "source": []
  }
 ],
 "metadata": {
  "kernelspec": {
   "display_name": "Python 3",
   "language": "python",
   "name": "python3"
  },
  "language_info": {
   "codemirror_mode": {
    "name": "ipython",
    "version": 3
   },
   "file_extension": ".py",
   "mimetype": "text/x-python",
   "name": "python",
   "nbconvert_exporter": "python",
   "pygments_lexer": "ipython3",
   "version": "3.6.5"
  }
 },
 "nbformat": 4,
 "nbformat_minor": 2
}
